{
 "cells": [
  {
   "cell_type": "code",
   "execution_count": 129,
   "metadata": {},
   "outputs": [],
   "source": [
    "from numpy.linalg import norm\n",
    "from numpy import cross, eye\n",
    "from scipy.linalg import expm\n",
    "import numpy as np\n",
    "import pymatgen as p\n",
    "pi=np.pi"
   ]
  },
  {
   "cell_type": "code",
   "execution_count": null,
   "metadata": {},
   "outputs": [],
   "source": []
  },
  {
   "cell_type": "code",
   "execution_count": 195,
   "metadata": {},
   "outputs": [
    {
     "data": {
      "text/plain": [
       "[[3.274955299036476, 3.1665862449690314, 3.391005752689135],\n",
       " [3.178825312427328, 2.9741125825200676, 6.16374753662636],\n",
       " [3.175914448074749, 5.945898174095597, 3.3914483686910395],\n",
       " [6.049362943707305, 2.9741125825200676, 3.3914483686910395]]"
      ]
     },
     "execution_count": 195,
     "metadata": {},
     "output_type": "execute_result"
    }
   ],
   "source": [
    "struc=p.Structure.from_file(\"Cssii2.cif\")\n",
    "[list(i.coords) for i in struc[1:]]"
   ]
  },
  {
   "cell_type": "code",
   "execution_count": 179,
   "metadata": {},
   "outputs": [],
   "source": [
    "center=np.array([i.coords for i in struc[1:]]).sum(axis=0)/4"
   ]
  },
  {
   "cell_type": "code",
   "execution_count": 180,
   "metadata": {},
   "outputs": [
    {
     "data": {
      "text/plain": [
       "[[3.8527197450187143, 2.6632294843584026, 3.8943625132997637],\n",
       " [5.949443694837484, 3.8853893796958325, 5.252470739450595],\n",
       " [1.887762409677063, 3.9830742995931145, 5.354272243193522],\n",
       " [3.989132153712596, 4.529016420457413, 1.8365445307536932]]"
      ]
     },
     "execution_count": 180,
     "metadata": {},
     "output_type": "execute_result"
    }
   ],
   "source": [
    "axis=[0,1,1]\n",
    "theta=pi/2\n",
    "anchor=center\n",
    "struc.rotate_sites(indices=[1,2,3,4], theta=theta, axis=axis, anchor=anchor)\n",
    "[list(i.coords) for i in struc[1:]]"
   ]
  },
  {
   "cell_type": "code",
   "execution_count": 177,
   "metadata": {},
   "outputs": [
    {
     "name": "stdout",
     "output_type": "stream",
     "text": [
      "[3.85271975 2.66322948 3.89436251]\n",
      "[5.94944369 3.88538938 5.25247074]\n",
      "[1.88776241 3.9830743  5.35427224]\n",
      "[3.98913215 4.52901642 1.83654453]\n"
     ]
    }
   ],
   "source": [
    "axis=[0,1,1]\n",
    "theta=pi/2\n",
    "anchor=center\n",
    "rm = expm(cross(eye(3), axis / norm(axis)) * theta)\n",
    "indices=[list(i.coords) for i in struc[1:]]\n",
    "for i in indices:\n",
    "    site = i\n",
    "    s = ((np.dot(rm, (site - anchor).T)).T + anchor).ravel()\n",
    "    print(s)"
   ]
  },
  {
   "cell_type": "code",
   "execution_count": 173,
   "metadata": {},
   "outputs": [
    {
     "data": {
      "text/plain": [
       "array([ 9., 14., 10.])"
      ]
     },
     "execution_count": 173,
     "metadata": {},
     "output_type": "execute_result"
    }
   ],
   "source": [
    "a1=[[1,2,3],[2.,3,4],[2,2,2]]\n",
    "a2=[2,2,1]\n",
    "np.dot(a1,a2)"
   ]
  },
  {
   "cell_type": "code",
   "execution_count": 196,
   "metadata": {},
   "outputs": [],
   "source": [
    "n=2\n",
    "struc1=struc.copy()\n",
    "struc1.make_supercell([[n,0,0],[0,n,0],[0,0,n]])"
   ]
  },
  {
   "cell_type": "code",
   "execution_count": 210,
   "metadata": {},
   "outputs": [
    {
     "data": {
      "text/plain": [
       "(array([0, 0, 0, 0], dtype=int64),\n",
       " array([20, 28, 36, 12], dtype=int64),\n",
       " array([[0., 0., 0.],\n",
       "        [0., 0., 0.],\n",
       "        [0., 0., 0.],\n",
       "        [0., 0., 0.]]),\n",
       " array([2.78107607, 2.78107607, 2.78107607, 0.        ]))"
      ]
     },
     "execution_count": 210,
     "metadata": {},
     "output_type": "execute_result"
    }
   ],
   "source": [
    "struc1.get_neighbor_list(struc.get_distance(1,3)+.1,[struc1[12]],exclude_self=True)"
   ]
  },
  {
   "cell_type": "code",
   "execution_count": 225,
   "metadata": {},
   "outputs": [],
   "source": [
    "n=3\n",
    "cssii2=p.Structure.from_file(\"Cssii2.cif\")\n",
    "n=2\n",
    "struc1=cssii2.copy()\n",
    "struc1.make_supercell([[n,0,0],[0,n,0],[0,0,n]])\n",
    "dist=cssii2.get_distance(1,3)+.1\n",
    "positions=[]\n",
    "for i in struc1:\n",
    "    if i.species_string==\"Si\":\n",
    "        positions.append(struc1.get_neighbor_list(dist,[i])[1])"
   ]
  },
  {
   "cell_type": "code",
   "execution_count": 236,
   "metadata": {},
   "outputs": [
    {
     "name": "stdout",
     "output_type": "stream",
     "text": [
      "[3.2749553  3.16658624 3.39100575] Si\n",
      "[6.04936294 2.97411258 3.39144837] I\n",
      "[3.17591445 5.94589817 3.39144837] I\n",
      "[3.17882531 2.97411258 6.16374754] I\n"
     ]
    }
   ],
   "source": [
    "for i in positions[0][::-1]:\n",
    "    print(struc1[i])"
   ]
  },
  {
   "cell_type": "code",
   "execution_count": 238,
   "metadata": {},
   "outputs": [
    {
     "data": {
      "text/plain": [
       "(24.26792, 24.26792, 24.26792)"
      ]
     },
     "execution_count": 238,
     "metadata": {},
     "output_type": "execute_result"
    }
   ],
   "source": [
    "n=4\n",
    "struc1=cssii2.copy()\n",
    "struc1.make_supercell([[n,0,0],[0,n,0],[0,0,n]])\n",
    "struc1.lattice.abc"
   ]
  },
  {
   "cell_type": "code",
   "execution_count": null,
   "metadata": {},
   "outputs": [],
   "source": []
  }
 ],
 "metadata": {
  "kernelspec": {
   "display_name": "Python 3",
   "language": "python",
   "name": "python3"
  },
  "language_info": {
   "codemirror_mode": {
    "name": "ipython",
    "version": 3
   },
   "file_extension": ".py",
   "mimetype": "text/x-python",
   "name": "python",
   "nbconvert_exporter": "python",
   "pygments_lexer": "ipython3",
   "version": "3.7.7"
  }
 },
 "nbformat": 4,
 "nbformat_minor": 4
}
