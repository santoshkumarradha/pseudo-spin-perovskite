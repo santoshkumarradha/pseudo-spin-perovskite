{
 "cells": [
  {
   "cell_type": "code",
   "execution_count": 2,
   "metadata": {},
   "outputs": [
    {
     "data": {
      "text/html": [
       "<script>\n",
       "// Immediately-invoked-function-expression to avoid global variables.\n",
       "(function() {\n",
       "    var warning_div = document.getElementById(\"webio-warning-4365274226778922390\");\n",
       "    var hide = function () {\n",
       "        var script = document.getElementById(\"webio-setup-2789619975732657772\");\n",
       "        var parent = script && script.parentElement;\n",
       "        var grandparent = parent && parent.parentElement;\n",
       "        if (grandparent) {\n",
       "            grandparent.style.display = \"none\";\n",
       "        }\n",
       "        warning_div.style.display = \"none\";\n",
       "    };\n",
       "    if (typeof Jupyter !== \"undefined\") {\n",
       "        console.log(\"WebIO detected Jupyter notebook environment.\");\n",
       "        // Jupyter notebook.\n",
       "        var extensions = (\n",
       "            Jupyter\n",
       "            && Jupyter.notebook.config.data\n",
       "            && Jupyter.notebook.config.data.load_extensions\n",
       "        );\n",
       "        if (extensions && extensions[\"webio-jupyter-notebook\"]) {\n",
       "            // Extension already loaded.\n",
       "            console.log(\"Jupyter WebIO nbextension detected; not loading ad-hoc.\");\n",
       "            hide();\n",
       "            return;\n",
       "        }\n",
       "    } else if (window.location.pathname.includes(\"/lab\")) {\n",
       "        // Guessing JupyterLa\n",
       "        console.log(\"Jupyter Lab detected; make sure the @webio/jupyter-lab-provider labextension is installed.\");\n",
       "        hide();\n",
       "        return;\n",
       "    }\n",
       "})();\n",
       "\n",
       "</script>\n",
       "<p\n",
       "    id=\"webio-warning-4365274226778922390\"\n",
       "    class=\"output_text output_stderr\"\n",
       "    style=\"padding: 1em; font-weight: bold;\"\n",
       ">\n",
       "    Unable to load WebIO. Please make sure WebIO works for your Jupyter client.\n",
       "    For troubleshooting, please see <a href=\"https://juliagizmos.github.io/WebIO.jl/latest/providers/ijulia/\">\n",
       "    the WebIO/IJulia documentation</a>.\n",
       "    <!-- TODO: link to installation docs. -->\n",
       "</p>\n"
      ],
      "text/plain": [
       "HTML{String}(\"<script>\\n// Immediately-invoked-function-expression to avoid global variables.\\n(function() {\\n    var warning_div = document.getElementById(\\\"webio-warning-4365274226778922390\\\");\\n    var hide = function () {\\n        var script = document.getElementById(\\\"webio-setup-2789619975732657772\\\");\\n        var parent = script && script.parentElement;\\n        var grandparent = parent && parent.parentElement;\\n        if (grandparent) {\\n            grandparent.style.display = \\\"none\\\";\\n        }\\n        warning_div.style.display = \\\"none\\\";\\n    };\\n    if (typeof Jupyter !== \\\"undefined\\\") {\\n        console.log(\\\"WebIO detected Jupyter notebook environment.\\\");\\n        // Jupyter notebook.\\n        var extensions = (\\n            Jupyter\\n            && Jupyter.notebook.config.data\\n            && Jupyter.notebook.config.data.load_extensions\\n        );\\n        if (extensions && extensions[\\\"webio-jupyter-notebook\\\"]) {\\n            // Extension already loaded.\\n            console.log(\\\"Jupyter WebIO nbextension detected; not loading ad-hoc.\\\");\\n            hide();\\n            return;\\n        }\\n    } else if (window.location.pathname.includes(\\\"/lab\\\")) {\\n        // Guessing JupyterLa\\n        console.log(\\\"Jupyter Lab detected; make sure the @webio/jupyter-lab-provider labextension is installed.\\\");\\n        hide();\\n        return;\\n    }\\n})();\\n\\n</script>\\n<p\\n    id=\\\"webio-warning-4365274226778922390\\\"\\n    class=\\\"output_text output_stderr\\\"\\n    style=\\\"padding: 1em; font-weight: bold;\\\"\\n>\\n    Unable to load WebIO. Please make sure WebIO works for your Jupyter client.\\n    For troubleshooting, please see <a href=\\\"https://juliagizmos.github.io/WebIO.jl/latest/providers/ijulia/\\\">\\n    the WebIO/IJulia documentation</a>.\\n    <!-- TODO: link to installation docs. -->\\n</p>\\n\")"
      ]
     },
     "metadata": {},
     "output_type": "display_data"
    },
    {
     "data": {
      "text/plain": [
       "plot_tetra (generic function with 1 method)"
      ]
     },
     "execution_count": 2,
     "metadata": {},
     "output_type": "execute_result"
    }
   ],
   "source": [
    "include(\"./perov_functions.jl\")"
   ]
  },
  {
   "cell_type": "code",
   "execution_count": 3,
   "metadata": {},
   "outputs": [],
   "source": [
    "using Plots\n",
    "n=6;nk=100;\n",
    "system=make_symstem(n);"
   ]
  },
  {
   "cell_type": "code",
   "execution_count": null,
   "metadata": {},
   "outputs": [],
   "source": [
    "dipole=[]\n",
    "function rot_draw(i,pl2)\n",
    "    pl=plot()#plot(xlim=(-2,10),ylim=(-2,10))\n",
    "    theta=i\n",
    "    axis=[1,0,0.]\n",
    "    system_test=copy(system)\n",
    "    pos_1=[2,2,2]\n",
    "    nn=[[1,0,0],[-1,0,0],[0,1,0],[0,-1,0],[0,0,1],[0,0,-1]]\n",
    "    system_test[pos_1[1],pos_1[2],pos_1[3]]=\n",
    "            rot_tetra_test_1(system_at_index(system,pos_1),axis,theta);\n",
    "    tetra1=system_test[pos_1[1],pos_1[2],pos_1[3]]\n",
    "    plot_tetra(tetra1,pl)\n",
    "    d=0\n",
    "    for i in nn\n",
    "        ge=(tetra1.ge+tetra1.cl1+tetra1.cl2+tetra1.cl3)/4\n",
    "        pos_new=pos_1+i\n",
    "        temp=system_at_index(system,pos_new)\n",
    "        tetra2=(temp.ge+temp.cl1+temp.cl2+temp.cl3)/4\n",
    "        plot!(pl,[ge[1],tetra2[1]],[ge[2],tetra2[2]],[ge[3],tetra2[3]],color=\"red\",linewidth=2,label=\"\")\n",
    "        plot_tetra(temp,pl)\n",
    "        d+=get_dipole_energy_between_tetra(tetra1,temp)\n",
    "        end;\n",
    "    scatter!(pl2,[i/(π)],[d],markersize=3,label=\"\",color=\"red\")\n",
    "    plot(pl,pl2,size = (800, 400),aspect=1)\n",
    "    \n",
    "    end;\n",
    "Plots.gr()\n",
    "pl2=plot(size = (800, 800),aspect=1,ylim=(-150,250),xlim=(0,2),xlabel=\"Angle (π)\",ylabel=\"Dipole\")\n",
    "anim = @animate for i ∈ LinRange(0,2*pi,100)\n",
    "    rot_draw(i,pl2)\n",
    "end\n",
    "gif(anim, \"animations/rot_dipole_2_100.gif\", fps = 20)"
   ]
  },
  {
   "cell_type": "code",
   "execution_count": null,
   "metadata": {},
   "outputs": [],
   "source": [
    "dipole=[]\n",
    "function rot_draw(i,pl2,pl3)\n",
    "    pl=plot()#plot(xlim=(-2,10),ylim=(-2,10))\n",
    "    theta=i\n",
    "    axis=[1,0,1.]\n",
    "    system_test=copy(system)\n",
    "    pos_1=[2,2,2]\n",
    "    nn=[[1,0,0],[-1,0,0],[0,1,0],[0,-1,0],[0,0,1],[0,0,-1]]\n",
    "    system_test[pos_1[1],pos_1[2],pos_1[3]]=\n",
    "            rot_tetra_test_1(system_at_index(system,pos_1),axis,theta);\n",
    "    tetra1=system_test[pos_1[1],pos_1[2],pos_1[3]]\n",
    "    plot_tetra(tetra1,pl)\n",
    "    d=0\n",
    "    for i in nn\n",
    "        ge=(tetra1.ge+tetra1.cl1+tetra1.cl2+tetra1.cl3)/4\n",
    "        pos_new=pos_1+i\n",
    "        temp=system_at_index(system,pos_new)\n",
    "        tetra2=(temp.ge+temp.cl1+temp.cl2+temp.cl3)/4\n",
    "        plot!(pl,[ge[1],tetra2[1]],[ge[2],tetra2[2]],[ge[3],tetra2[3]],color=\"red\",linewidth=2,label=\"\")\n",
    "        plot_tetra(temp,pl)\n",
    "        d+=get_dipole_energy_between_tetra(tetra1,temp)\n",
    "        end;\n",
    "    scatter!(pl2,[i/(π)],[d],markersize=3,label=\"\",color=\"red\")\n",
    "    plot(pl,pl2,size = (800, 400),aspect=1)\n",
    "    u=0\n",
    "    for i in nn\n",
    "        ind,_=pbc_1(system,pos_1+i)\n",
    "        u+=(get_mean_var(system_test,ind,\"var\")-get_mean_var(system,ind,\"var\"))\n",
    "        end;\n",
    "    l =  @layout([a [b; c]])\n",
    "    scatter!(pl3,[i/(π)],[u],markersize=3,label=\"\",color=\"yellow\")\n",
    "    plot(pl,pl2,pl3,size = (800, 400),aspect=1,layout=l)\n",
    "    end;\n",
    "Plots.gr()\n",
    "pl2=plot(size = (800, 800),aspect=1,ylim=(-150,250),xlim=(0,2),xlabel=\"Angle (π)\",ylabel=\"Dipole\")\n",
    "pl3=plot(size = (800, 300),aspect=1,ylim=(-.5,2),xlim=(0,2),xlabel=\"Angle (π)\",ylabel=\"U\")\n",
    "anim = @animate for i ∈ LinRange(0,2*pi,100)\n",
    "    rot_draw(i,pl2,pl3)\n",
    "end\n",
    "gif(anim, \"animations/complete1_111.gif\", fps = 20)"
   ]
  },
  {
   "cell_type": "code",
   "execution_count": null,
   "metadata": {},
   "outputs": [],
   "source": []
  }
 ],
 "metadata": {
  "@webio": {
   "lastCommId": null,
   "lastKernelId": null
  },
  "kernelspec": {
   "display_name": "Julia 1.4.1",
   "language": "julia",
   "name": "julia-1.4"
  },
  "language_info": {
   "file_extension": ".jl",
   "mimetype": "application/julia",
   "name": "julia",
   "version": "1.4.1"
  }
 },
 "nbformat": 4,
 "nbformat_minor": 4
}
