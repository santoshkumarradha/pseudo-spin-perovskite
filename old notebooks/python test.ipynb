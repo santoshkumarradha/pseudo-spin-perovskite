{
 "cells": [
  {
   "cell_type": "code",
   "execution_count": 2,
   "metadata": {},
   "outputs": [],
   "source": [
    "from numpy.linalg import norm\n",
    "from numpy import cross, eye\n",
    "from scipy.linalg import expm\n",
    "import numpy as np\n",
    "import pymatgen as p\n",
    "import matplotlib.pyplot as plt\n",
    "pi=np.pi\n",
    "%matplotlib widget"
   ]
  },
  {
   "cell_type": "code",
   "execution_count": 45,
   "metadata": {},
   "outputs": [
    {
     "data": {
      "text/plain": [
       "[{'site': PeriodicSite: I (2.9776, 5.9529, 3.0806) [0.4908, 0.9812, 0.5078],\n",
       "  'image': (0, 0, 0),\n",
       "  'weight': 1,\n",
       "  'site_index': 3},\n",
       " {'site': PeriodicSite: I (5.9529, 2.9776, 3.0806) [0.9812, 0.4908, 0.5078],\n",
       "  'image': (0, 0, 0),\n",
       "  'weight': 1,\n",
       "  'site_index': 4},\n",
       " {'site': PeriodicSite: I (3.0806, 2.9776, 5.9529) [0.5078, 0.4908, 0.9812],\n",
       "  'image': (0, 0, 0),\n",
       "  'weight': 1,\n",
       "  'site_index': 2}]"
      ]
     },
     "execution_count": 45,
     "metadata": {},
     "output_type": "execute_result"
    }
   ],
   "source": [
    "from pymatgen.analysis.local_env import CrystalNN as nn\n"
   ]
  },
  {
   "cell_type": "code",
   "execution_count": 52,
   "metadata": {},
   "outputs": [
    {
     "ename": "SyntaxError",
     "evalue": "unexpected EOF while parsing (<ipython-input-52-ce89efa76499>, line 9)",
     "output_type": "error",
     "traceback": [
      "\u001b[0;36m  File \u001b[0;32m\"<ipython-input-52-ce89efa76499>\"\u001b[0;36m, line \u001b[0;32m9\u001b[0m\n\u001b[0;31m    #         print(\"\\n\")\u001b[0m\n\u001b[0m                         ^\u001b[0m\n\u001b[0;31mSyntaxError\u001b[0m\u001b[0;31m:\u001b[0m unexpected EOF while parsing\n"
     ]
    }
   ],
   "source": [
    "cssii2=p.Structure.from_file(\"../Cssii2.cif\")\n",
    "struc1=cssii2.copy()\n",
    "n=2\n",
    "struc1.make_supercell([[n,0,0],[0,n,0],[0,0,n]])\n",
    "dist=cssii2.get_distance(1,3)\n",
    "for j,i in enumerate(struc1):\n",
    "    if i.species_string==\"Si\":\n",
    "#         print( [i[\"site_index\"] for i in nn().get_nn_info(struc1,n=j)]  )\n",
    "#         print(\"\\n\")"
   ]
  },
  {
   "cell_type": "code",
   "execution_count": 57,
   "metadata": {},
   "outputs": [
    {
     "data": {
      "text/plain": [
       "(6.06698,\n",
       " [array([3.1703004, 3.1703004, 3.1703004]),\n",
       "  array([3.08059403, 2.97760098, 5.95287224]),\n",
       "  array([2.97760098, 5.95287224, 3.08059403]),\n",
       "  array([5.95287224, 2.97760098, 3.08059403])])"
      ]
     },
     "execution_count": 57,
     "metadata": {},
     "output_type": "execute_result"
    }
   ],
   "source": [
    "def get():\n",
    "    cssii2=p.Structure.from_file(\"../Cssii2.cif\")\n",
    "    a=cssii2.lattice.abc[1]\n",
    "    return a,[cssii2[1].coords,cssii2[2].coords,cssii2[3].coords,cssii2[4].coords]\n",
    "get()\n"
   ]
  },
  {
   "cell_type": "code",
   "execution_count": 71,
   "metadata": {},
   "outputs": [],
   "source": [
    "def transform(structure_given,angle=-180,phi=0,atom=1,inplace=False):\n",
    "        structure=structure_given.copy()\n",
    "        coor=[]\n",
    "        if atom==1:\n",
    "            pos=structure.get_neighbor_list(2.8,[structure[0]])[1]\n",
    "            if 0 not in pos:\n",
    "                pos=np.hstack((pos,0))\n",
    "        else:\n",
    "            pos=structure.get_neighbor_list(2.4,[structure[1]])[1]\n",
    "            if 1 not in pos:\n",
    "                pos=np.hstack((pos,1))\n",
    "        #coord = (structure[3].coords+structure[5].coords+structure[6].coords+structure[8].coords)/4\n",
    "        coord=np.array([structure[i].coords for i in pos]).mean(axis=0)\n",
    "        structure.rotate_sites(pos,np.deg2rad(angle),[0,1,0],coord,to_unit_cell=True)\n",
    "        structure.rotate_sites(pos,np.deg2rad(phi),[1,0,0],coord,to_unit_cell=True)\n",
    "        #structure.to(\"cif\",\"../structures/dipole_2.cif\")\n",
    "        return structure\n",
    "#!open structures/dipole_2.cif"
   ]
  },
  {
   "cell_type": "code",
   "execution_count": 59,
   "metadata": {},
   "outputs": [],
   "source": [
    "structure = p.Structure.from_file(\"../structures/final_dipoles.cif\")\n",
    "s=transform(structure,angle=180,atom=2)\n",
    "!open ../structures/dipole_2.cif"
   ]
  },
  {
   "cell_type": "code",
   "execution_count": 67,
   "metadata": {},
   "outputs": [
    {
     "data": {
      "text/plain": [
       "[<matplotlib.lines.Line2D at 0xa38ea34d0>]"
      ]
     },
     "execution_count": 67,
     "metadata": {},
     "output_type": "execute_result"
    },
    {
     "data": {
      "image/png": "[encoded data removed]",
      "text/plain": [
       "<Figure size 432x288 with 1 Axes>"
      ]
     },
     "metadata": {
      "needs_background": "light"
     },
     "output_type": "display_data"
    }
   ],
   "source": [
    "var=[]\n",
    "structure = p.Structure.from_file(\"../structures/dipole_2.cif\")\n",
    "%matplotlib inline\n",
    "for i in np.linspace(0,360,100):\n",
    "    s=transform(structure,angle=0,phi=i,atom=2)\n",
    "    nn=s.get_neighbor_list(8,[s[0]])\n",
    "    var.append(np.var(np.sort(nn[-1][np.where(nn[1]>1)])[:6]))\n",
    "plt.plot(np.linspace(0,360,100),var)\n",
    "    "
   ]
  },
  {
   "cell_type": "code",
   "execution_count": 237,
   "metadata": {},
   "outputs": [
    {
     "name": "stdout",
     "output_type": "stream",
     "text": [
      "[4 6 3 7 3 5 6 2 4 2 5 7]\n",
      "[4 6 3 7 0 3 5 1 0 6 2 4 2 5 1 0 1 7]\n"
     ]
    }
   ],
   "source": [
    "structure = p.Structure.from_file(\"structures/final_dipoles.cif\")\n",
    "s=transform(structure,angle=0,phi=0,atom=2)\n",
    "nn=s.get_neighbor_list(4.5,[s[1],s[0]])\n",
    "#nn[-1][nn[1] not in [0,1]]\n",
    "print(nn[1][np.where((nn[1] != 1) & (nn[1] !=0) )])\n",
    "print(nn[1])"
   ]
  },
  {
   "cell_type": "code",
   "execution_count": 202,
   "metadata": {},
   "outputs": [
    {
     "name": "stdout",
     "output_type": "stream",
     "text": [
      "2.89808210661772 2.9216093717329867\n",
      "0.3843253849389867 0.7207977402753062\n"
     ]
    }
   ],
   "source": [
    "# s.get_neighbor_list(2.8,[structure[0]])\n",
    "dist=s.get_neighbor_list(4.5,[s[0],s[1]])[-1]\n",
    "structure = p.Structure.from_file(\"structures/final_dipoles.cif\")\n",
    "dist_o=s.get_neighbor_list(4.5,[structure[0],structure[1]])[-1]\n",
    "print(np.mean(dist),np.mean(dist_o))\n",
    "print(np.var(dist),np.var(dist_o))"
   ]
  },
  {
   "cell_type": "code",
   "execution_count": 238,
   "metadata": {},
   "outputs": [],
   "source": [
    "def get_mean_var(structure,pos=[0,1],cutoff=4.5,type=\"mean\"):\n",
    "    nn=structure.get_neighbor_list(cutoff,[structure[pos[0]],structure[pos[1]]])\n",
    "    dist=nn[-1][np.where(  (nn[1] != pos[0]) & (nn[1] !=pos[1])  )]\n",
    "    if type==\"mean\":\n",
    "        return np.mean(dist)\n",
    "    else:\n",
    "        return np.var(dist)"
   ]
  },
  {
   "cell_type": "code",
   "execution_count": 269,
   "metadata": {},
   "outputs": [
    {
     "name": "stdout",
     "output_type": "stream",
     "text": [
      "Mean : 3.121926003272383 2.89808210661772\n",
      "Var : 0.6188056090598016 0.384325384938986\n"
     ]
    }
   ],
   "source": [
    "structure = p.Structure.from_file(\"structures/final_dipoles.cif\")\n",
    "s=transform(structure,angle=180,phi=0,atom=1,inplace=False)\n",
    "print(\"Mean :\",get_mean_var(structure),get_mean_var(s))\n",
    "print(\"Var :\",get_mean_var(structure,type=\"var\"),get_mean_var(s,type=\"var\"))"
   ]
  },
  {
   "cell_type": "code",
   "execution_count": 295,
   "metadata": {},
   "outputs": [],
   "source": [
    "def transform(structure_given,angle=-180,phi=0,atom=1,inplace=False):\n",
    "        structure=structure_given.copy()\n",
    "        coor=[]\n",
    "        if atom==1:\n",
    "            pos=structure.get_neighbor_list(2.8,[structure[0]])[1]\n",
    "            if 0 not in pos:\n",
    "                pos=np.hstack((pos,0))\n",
    "        else:\n",
    "            pos=structure.get_neighbor_list(2.4,[structure[1]])[1]\n",
    "            if 1 not in pos:\n",
    "                pos=np.hstack((pos,1))\n",
    "        #coord = (structure[3].coords+structure[5].coords+structure[6].coords+structure[8].coords)/4\n",
    "        coord=np.array([structure[i].coords for i in pos]).mean(axis=0)\n",
    "        structure.rotate_sites(pos,np.deg2rad(angle),[0,1,0],coord,to_unit_cell=False)\n",
    "        structure.rotate_sites(pos,np.deg2rad(phi),[1,0,0],coord,to_unit_cell=False)\n",
    "        structure.to(\"cif\",\"structures/dipole_2.cif\")\n",
    "        return structure\n",
    "# structure = p.Structure.from_file(\"structures/final_dipoles.cif\")\n",
    "# s=transform(structure,angle=180,phi=0,atom=1,inplace=False)\n",
    "# s.to(\"cif\",\"structures/rotated_dipoles.cif\")\n",
    "# structure = p.Structure.from_file(\"structures/rotated_dipoles.cif\")\n",
    "# s=transform(structure,angle=-180,phi=0,atom=2,inplace=False)\n",
    "# !open structures/dipole_2.cif"
   ]
  },
  {
   "cell_type": "code",
   "execution_count": 297,
   "metadata": {},
   "outputs": [],
   "source": [
    "structure = p.Structure.from_file(\"structures/rotated_dipoles.cif\")\n",
    "s=transform(structure,angle=180,phi=20,atom=1,inplace=False)\n",
    "!open structures/dipole_2.cif"
   ]
  },
  {
   "cell_type": "code",
   "execution_count": 288,
   "metadata": {},
   "outputs": [
    {
     "data": {
      "text/plain": [
       "array([4, 6, 3, 1], dtype=int64)"
      ]
     },
     "execution_count": 288,
     "metadata": {},
     "output_type": "execute_result"
    }
   ],
   "source": [
    "pos=structure.get_neighbor_list(2.8,[structure[1]])[1]\n",
    "pos"
   ]
  },
  {
   "cell_type": "code",
   "execution_count": 4,
   "metadata": {},
   "outputs": [],
   "source": [
    "cssii2=p.Structure.from_file(\"structures/usethisFM.cif\")\n",
    "struc1=cssii2.copy()\n",
    "n=1\n",
    "struc1.make_supercell([[n,0,0],[0,n,0],[0,0,n]])\n"
   ]
  },
  {
   "cell_type": "code",
   "execution_count": 5,
   "metadata": {},
   "outputs": [
    {
     "data": {
      "text/plain": [
       "(array([0, 0, 0, 0], dtype=int64),\n",
       " array([4, 6, 3, 1], dtype=int64),\n",
       " array([[0., 0., 0.],\n",
       "        [0., 0., 0.],\n",
       "        [0., 0., 0.],\n",
       "        [0., 0., 0.]]),\n",
       " array([2.43203754e+00, 2.43203754e+00, 2.38069051e+00, 4.44089210e-16]))"
      ]
     },
     "execution_count": 5,
     "metadata": {},
     "output_type": "execute_result"
    }
   ],
   "source": [
    "struc1.get_neighbor_list(2.5,[struc1[1]])"
   ]
  },
  {
   "cell_type": "code",
   "execution_count": 13,
   "metadata": {},
   "outputs": [],
   "source": [
    "pos1=[]\n",
    "x=struc1[0]\n",
    "pos1.append(x.frac_coords)\n",
    "for i in struc1.get_neighbors(x,2.5):\n",
    "    pos1.append(i.frac_coords)\n",
    "pos1=np.array(pos1).T"
   ]
  },
  {
   "cell_type": "code",
   "execution_count": 14,
   "metadata": {},
   "outputs": [],
   "source": [
    "pos2=[]\n",
    "x=struc1[1]\n",
    "pos2.append(x.frac_coords)\n",
    "for i in struc1.get_neighbors(x,2.5):\n",
    "    pos2.append(i.frac_coords)\n",
    "pos2=np.array(pos2).T"
   ]
  },
  {
   "cell_type": "code",
   "execution_count": 43,
   "metadata": {},
   "outputs": [
    {
     "data": {
      "image/png": "[encoded data removed]",
      "text/plain": [
       "<Figure size 432x288 with 1 Axes>"
      ]
     },
     "metadata": {
      "needs_background": "light"
     },
     "output_type": "display_data"
    }
   ],
   "source": [
    "%matplotlib inline\n",
    "from mpl_toolkits.mplot3d import Axes3D\n",
    "fig = plt.figure()\n",
    "ax = fig.add_subplot(111, projection='3d')\n",
    "ax.scatter(pos1[0][1:],pos1[1][1:],pos1[2][1:],color=\"blue\")\n",
    "ax.scatter(pos1[0][0],pos1[1][0],pos1[2][0],color=\"red\")\n",
    "\n",
    "\n",
    "for i in range(1,4):\n",
    "    ax.plot3D([pos1[0][0],pos1[0][i]],[pos1[1][0],pos1[1][i]],[pos1[2][0],pos1[2][i]],c=\"k\",ls=\"--\")\n",
    "ax.plot3D([pos[0][i] for i in [1,2,3,1]],[pos[1][i] for i in [1,2,3,1]],[pos[2][i] for i in [1,2,3,1]],c=\"k\")\n",
    "\n",
    "# ax.scatter(pos2[0][1:],pos2[1][1:],pos2[2][1:],color=\"blue\")\n",
    "# ax.scatter(pos2[0][0],pos2[1][0],pos2[2][0],color=\"red\")\n",
    "ax.set_ylim(0,1)\n",
    "ax.set_xlim(0,1)\n",
    "ax.set_zlim(0,1)\n",
    "ax.view_init(elev=90, azim=-30)\n",
    "plt.show()"
   ]
  },
  {
   "cell_type": "code",
   "execution_count": 74,
   "metadata": {},
   "outputs": [
    {
     "data": {
      "text/plain": [
       "[<matplotlib.lines.Line2D at 0xa38ff9810>]"
      ]
     },
     "execution_count": 74,
     "metadata": {},
     "output_type": "execute_result"
    },
    {
     "data": {
      "image/png": "[encoded data removed]",
      "text/plain": [
       "<Figure size 432x288 with 1 Axes>"
      ]
     },
     "metadata": {
      "needs_background": "light"
     },
     "output_type": "display_data"
    }
   ],
   "source": [
    "var=[]\n",
    "structure = p.Structure.from_file(\"../structures/dipole_2.cif\")\n",
    "%matplotlib inline\n",
    "for i in np.linspace(0,360,100):\n",
    "    s=transform(structure,angle=0,phi=i,atom=2)\n",
    "    nn=s.get_neighbor_list(8,[s[1]])\n",
    "    var.append(np.var(np.sort(nn[-1][np.where(nn[1]>1)])[:6]))\n",
    "plt.plot(np.linspace(0,360,100),var)\n",
    "    "
   ]
  },
  {
   "cell_type": "code",
   "execution_count": 83,
   "metadata": {},
   "outputs": [
    {
     "data": {
      "text/plain": [
       "array([[ 0.,  0.,  0.],\n",
       "       [-1.,  0.,  0.],\n",
       "       [-1.,  0.,  0.]])"
      ]
     },
     "execution_count": 83,
     "metadata": {},
     "output_type": "execute_result"
    }
   ],
   "source": [
    "var=[]\n",
    "structure = p.Structure.from_file(\"../structures/dipole_2.cif\")\n",
    "%matplotlib inline\n",
    "for i in np.linspace(0,360,100):\n",
    "    s=transform(structure,angle=0,phi=i,atom=2)\n",
    "    nn=s.get_neighbor_list(8,[s[1]])\n",
    "    var.append(np.var(np.sort(nn[-1][np.where(nn[1]>1)])[:6]))\n",
    "plt.plot(np.linspace(0,360,100),var)"
   ]
  },
  {
   "cell_type": "code",
   "execution_count": 81,
   "metadata": {},
   "outputs": [
    {
     "data": {
      "text/plain": [
       "(array([0, 0, 0, 0, 0, 0, 0, 0, 0, 0, 0, 0, 0, 0, 0, 0, 0, 0, 0, 0, 0, 0,\n",
       "        0, 0, 0, 0, 0, 0, 0, 0, 0, 0, 0, 0, 0, 0, 0, 0, 0, 0, 0, 0, 0, 0,\n",
       "        0, 0, 0, 0, 0, 0, 0, 0], dtype=int64),\n",
       " array([2, 4, 7, 5, 0, 3, 2, 4, 2, 7, 6, 5, 0, 3, 3, 2, 6, 1, 4, 2, 4, 7,\n",
       "        5, 0, 7, 2, 0, 4, 7, 6, 5, 1, 0, 6, 3, 1, 2, 7, 6, 5, 0, 3, 5, 2,\n",
       "        0, 4, 1, 7, 6, 5, 1, 0], dtype=int64),\n",
       " array([[ 0., -1., -1.],\n",
       "        [-1.,  0., -1.],\n",
       "        [-1., -1., -1.],\n",
       "        [-1., -1., -1.],\n",
       "        [-1., -1., -1.],\n",
       "        [ 0., -1.,  0.],\n",
       "        [ 0., -1.,  0.],\n",
       "        [-1.,  0.,  0.],\n",
       "        [ 0.,  0., -1.],\n",
       "        [-1.,  0., -1.],\n",
       "        [-1.,  0., -1.],\n",
       "        [-1.,  0., -1.],\n",
       "        [-1.,  0., -1.],\n",
       "        [ 0.,  1.,  0.],\n",
       "        [ 0.,  0.,  0.],\n",
       "        [ 0.,  0.,  0.],\n",
       "        [-1.,  0.,  0.],\n",
       "        [-1.,  0.,  0.],\n",
       "        [ 1.,  0.,  0.],\n",
       "        [ 1., -1., -1.],\n",
       "        [ 0.,  0., -1.],\n",
       "        [ 0., -1., -1.],\n",
       "        [ 0., -1., -1.],\n",
       "        [ 0., -1., -1.],\n",
       "        [ 1., -1.,  0.],\n",
       "        [ 1., -1.,  0.],\n",
       "        [ 1., -1.,  0.],\n",
       "        [ 0.,  0.,  0.],\n",
       "        [ 0., -1.,  0.],\n",
       "        [ 0., -1.,  0.],\n",
       "        [ 0., -1.,  0.],\n",
       "        [ 0., -1.,  0.],\n",
       "        [ 0., -1.,  0.],\n",
       "        [ 1.,  0.,  0.],\n",
       "        [ 1.,  0.,  0.],\n",
       "        [ 1.,  0.,  0.],\n",
       "        [ 1.,  0., -1.],\n",
       "        [ 0.,  0., -1.],\n",
       "        [ 0.,  0., -1.],\n",
       "        [ 0.,  0., -1.],\n",
       "        [ 0.,  0., -1.],\n",
       "        [ 1.,  0.,  1.],\n",
       "        [ 1.,  0.,  0.],\n",
       "        [ 1.,  0.,  0.],\n",
       "        [ 1.,  0.,  0.],\n",
       "        [ 0.,  1.,  0.],\n",
       "        [ 0.,  1.,  0.],\n",
       "        [ 0.,  0.,  0.],\n",
       "        [ 0.,  0.,  0.],\n",
       "        [ 0.,  0.,  0.],\n",
       "        [ 0.,  0.,  0.],\n",
       "        [ 0.,  0.,  0.]]),\n",
       " array([5.79209135e+00, 7.37856569e+00, 5.27567972e+00, 7.27651800e+00,\n",
       "        7.07639824e+00, 7.57247085e+00, 5.91986090e+00, 6.21174140e+00,\n",
       "        5.79209135e+00, 7.27651800e+00, 7.37856569e+00, 5.27567972e+00,\n",
       "        7.07639824e+00, 7.57247085e+00, 2.35666161e+00, 5.91986090e+00,\n",
       "        6.21174140e+00, 5.91437000e+00, 6.51372631e+00, 7.80986728e+00,\n",
       "        7.16098008e+00, 3.88618798e+00, 6.34171702e+00, 5.95177477e+00,\n",
       "        7.57570757e+00, 5.70926710e+00, 7.18538636e+00, 2.35104409e+00,\n",
       "        5.48241431e+00, 5.67458822e+00, 7.42777115e+00, 7.19642000e+00,\n",
       "        5.12022931e+00, 6.51372631e+00, 3.55971561e+00, 5.91437000e+00,\n",
       "        7.80986728e+00, 6.34171702e+00, 7.16098008e+00, 3.88618798e+00,\n",
       "        5.95177477e+00, 7.96201390e+00, 7.57570757e+00, 5.70926710e+00,\n",
       "        7.18538636e+00, 5.67458822e+00, 7.19642000e+00, 7.42777115e+00,\n",
       "        2.35104409e+00, 5.48241431e+00, 4.44089210e-16, 5.12022931e+00]))"
      ]
     },
     "execution_count": 81,
     "metadata": {},
     "output_type": "execute_result"
    }
   ],
   "source": [
    "nn"
   ]
  },
  {
   "cell_type": "code",
   "execution_count": null,
   "metadata": {},
   "outputs": [],
   "source": []
  }
 ],
 "metadata": {
  "kernelspec": {
   "display_name": "Python 3",
   "language": "python",
   "name": "python3"
  },
  "language_info": {
   "codemirror_mode": {
    "name": "ipython",
    "version": 3
   },
   "file_extension": ".py",
   "mimetype": "text/x-python",
   "name": "python",
   "nbconvert_exporter": "python",
   "pygments_lexer": "ipython3",
   "version": "3.7.7"
  }
 },
 "nbformat": 4,
 "nbformat_minor": 4
}
