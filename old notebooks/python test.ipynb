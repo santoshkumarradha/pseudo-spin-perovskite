{
 "cells": [
  {
   "cell_type": "code",
   "execution_count": 8,
   "metadata": {},
   "outputs": [],
   "source": [
    "from numpy.linalg import norm\n",
    "from numpy import cross, eye\n",
    "from scipy.linalg import expm\n",
    "import numpy as np\n",
    "import pymatgen as p\n",
    "import matplotlib.pyplot as plt\n",
    "pi=np.pi\n",
    "%matplotlib widget"
   ]
  },
  {
   "cell_type": "code",
   "execution_count": 281,
   "metadata": {},
   "outputs": [],
   "source": [
    "def transform(structure_given,angle=-180,phi=0,atom=1,inplace=False):\n",
    "        structure=structure_given.copy()\n",
    "        coor=[]\n",
    "        if atom==1:\n",
    "            pos=structure.get_neighbor_list(2.8,[structure[0]])[1]\n",
    "            if 0 not in pos:\n",
    "                pos=np.hstack((pos,0))\n",
    "        else:\n",
    "            pos=structure.get_neighbor_list(2.4,[structure[1]])[1]\n",
    "            if 1 not in pos:\n",
    "                pos=np.hstack((pos,1))\n",
    "        #coord = (structure[3].coords+structure[5].coords+structure[6].coords+structure[8].coords)/4\n",
    "        coord=np.array([structure[i].coords for i in pos]).mean(axis=0)\n",
    "        structure.rotate_sites(pos,np.deg2rad(angle),[0,1,0],coord,to_unit_cell=True)\n",
    "        structure.rotate_sites(pos,np.deg2rad(phi),[1,0,0],coord,to_unit_cell=True)\n",
    "        structure.to(\"cif\",\"structures/dipole_2.cif\")\n",
    "        return structure\n",
    "#!open structures/dipole_2.cif"
   ]
  },
  {
   "cell_type": "code",
   "execution_count": 203,
   "metadata": {},
   "outputs": [],
   "source": [
    "structure = p.Structure.from_file(\"structures/final_dipoles.cif\")\n",
    "s=transform(structure,angle=180,atom=1)\n",
    "!#open structures/dipole_2.cif"
   ]
  },
  {
   "cell_type": "code",
   "execution_count": 237,
   "metadata": {},
   "outputs": [
    {
     "name": "stdout",
     "output_type": "stream",
     "text": [
      "[4 6 3 7 3 5 6 2 4 2 5 7]\n",
      "[4 6 3 7 0 3 5 1 0 6 2 4 2 5 1 0 1 7]\n"
     ]
    }
   ],
   "source": [
    "structure = p.Structure.from_file(\"structures/final_dipoles.cif\")\n",
    "s=transform(structure,angle=0,phi=0,atom=2)\n",
    "nn=s.get_neighbor_list(4.5,[s[1],s[0]])\n",
    "#nn[-1][nn[1] not in [0,1]]\n",
    "print(nn[1][np.where((nn[1] != 1) & (nn[1] !=0) )])\n",
    "print(nn[1])"
   ]
  },
  {
   "cell_type": "code",
   "execution_count": 202,
   "metadata": {},
   "outputs": [
    {
     "name": "stdout",
     "output_type": "stream",
     "text": [
      "2.89808210661772 2.9216093717329867\n",
      "0.3843253849389867 0.7207977402753062\n"
     ]
    }
   ],
   "source": [
    "# s.get_neighbor_list(2.8,[structure[0]])\n",
    "dist=s.get_neighbor_list(4.5,[s[0],s[1]])[-1]\n",
    "structure = p.Structure.from_file(\"structures/final_dipoles.cif\")\n",
    "dist_o=s.get_neighbor_list(4.5,[structure[0],structure[1]])[-1]\n",
    "print(np.mean(dist),np.mean(dist_o))\n",
    "print(np.var(dist),np.var(dist_o))"
   ]
  },
  {
   "cell_type": "code",
   "execution_count": 238,
   "metadata": {},
   "outputs": [],
   "source": [
    "def get_mean_var(structure,pos=[0,1],cutoff=4.5,type=\"mean\"):\n",
    "    nn=structure.get_neighbor_list(cutoff,[structure[pos[0]],structure[pos[1]]])\n",
    "    dist=nn[-1][np.where(  (nn[1] != pos[0]) & (nn[1] !=pos[1])  )]\n",
    "    if type==\"mean\":\n",
    "        return np.mean(dist)\n",
    "    else:\n",
    "        return np.var(dist)"
   ]
  },
  {
   "cell_type": "code",
   "execution_count": 269,
   "metadata": {},
   "outputs": [
    {
     "name": "stdout",
     "output_type": "stream",
     "text": [
      "Mean : 3.121926003272383 2.89808210661772\n",
      "Var : 0.6188056090598016 0.384325384938986\n"
     ]
    }
   ],
   "source": [
    "structure = p.Structure.from_file(\"structures/final_dipoles.cif\")\n",
    "s=transform(structure,angle=180,phi=0,atom=1,inplace=False)\n",
    "print(\"Mean :\",get_mean_var(structure),get_mean_var(s))\n",
    "print(\"Var :\",get_mean_var(structure,type=\"var\"),get_mean_var(s,type=\"var\"))"
   ]
  },
  {
   "cell_type": "code",
   "execution_count": 295,
   "metadata": {},
   "outputs": [],
   "source": [
    "def transform(structure_given,angle=-180,phi=0,atom=1,inplace=False):\n",
    "        structure=structure_given.copy()\n",
    "        coor=[]\n",
    "        if atom==1:\n",
    "            pos=structure.get_neighbor_list(2.8,[structure[0]])[1]\n",
    "            if 0 not in pos:\n",
    "                pos=np.hstack((pos,0))\n",
    "        else:\n",
    "            pos=structure.get_neighbor_list(2.4,[structure[1]])[1]\n",
    "            if 1 not in pos:\n",
    "                pos=np.hstack((pos,1))\n",
    "        #coord = (structure[3].coords+structure[5].coords+structure[6].coords+structure[8].coords)/4\n",
    "        coord=np.array([structure[i].coords for i in pos]).mean(axis=0)\n",
    "        structure.rotate_sites(pos,np.deg2rad(angle),[0,1,0],coord,to_unit_cell=False)\n",
    "        structure.rotate_sites(pos,np.deg2rad(phi),[1,0,0],coord,to_unit_cell=False)\n",
    "        structure.to(\"cif\",\"structures/dipole_2.cif\")\n",
    "        return structure\n",
    "# structure = p.Structure.from_file(\"structures/final_dipoles.cif\")\n",
    "# s=transform(structure,angle=180,phi=0,atom=1,inplace=False)\n",
    "# s.to(\"cif\",\"structures/rotated_dipoles.cif\")\n",
    "# structure = p.Structure.from_file(\"structures/rotated_dipoles.cif\")\n",
    "# s=transform(structure,angle=-180,phi=0,atom=2,inplace=False)\n",
    "# !open structures/dipole_2.cif"
   ]
  },
  {
   "cell_type": "code",
   "execution_count": 297,
   "metadata": {},
   "outputs": [],
   "source": [
    "structure = p.Structure.from_file(\"structures/rotated_dipoles.cif\")\n",
    "s=transform(structure,angle=180,phi=20,atom=1,inplace=False)\n",
    "!open structures/dipole_2.cif"
   ]
  },
  {
   "cell_type": "code",
   "execution_count": 288,
   "metadata": {},
   "outputs": [
    {
     "data": {
      "text/plain": [
       "array([4, 6, 3, 1], dtype=int64)"
      ]
     },
     "execution_count": 288,
     "metadata": {},
     "output_type": "execute_result"
    }
   ],
   "source": [
    "pos=structure.get_neighbor_list(2.8,[structure[1]])[1]\n",
    "pos"
   ]
  },
  {
   "cell_type": "code",
   "execution_count": 306,
   "metadata": {},
   "outputs": [
    {
     "data": {
      "text/plain": [
       "'216\\nGe54 Cl162\\nGe 3.382647 5.397315 5.616523\\nGe 3.382647 5.397315 13.977953\\nGe 3.382647 5.397315 22.339383\\nGe 3.382647 12.593735 5.616523\\nGe 3.382647 12.593735 13.977953\\nGe 3.382647 12.593735 22.339383\\nGe 3.382647 19.790155 5.616523\\nGe 3.382647 19.790155 13.977953\\nGe 3.382647 19.790155 22.339383\\nGe 9.020382 5.397315 3.828867\\nGe 9.020382 5.397315 12.190297\\nGe 9.020382 5.397315 20.551727\\nGe 9.020382 12.593735 3.828867\\nGe 9.020382 12.593735 12.190297\\nGe 9.020382 12.593735 20.551727\\nGe 9.020382 19.790155 3.828867\\nGe 9.020382 19.790155 12.190297\\nGe 9.020382 19.790155 20.551727\\nGe 14.658117 5.397315 2.041211\\nGe 14.658117 5.397315 10.402641\\nGe 14.658117 5.397315 18.764071\\nGe 14.658117 12.593735 2.041211\\nGe 14.658117 12.593735 10.402641\\nGe 14.658117 12.593735 18.764071\\nGe 14.658117 19.790155 2.041211\\nGe 14.658117 19.790155 10.402641\\nGe 14.658117 19.790155 18.764071\\nGe 2.574522 1.799105 3.751190\\nGe 2.574522 1.799105 12.112620\\nGe 2.574522 1.799105 20.474050\\nGe 2.574522 8.995525 3.751190\\nGe 2.574522 8.995525 12.112620\\nGe 2.574522 8.995525 20.474050\\nGe 2.574522 16.191945 3.751190\\nGe 2.574522 16.191945 12.112620\\nGe 2.574522 16.191945 20.474050\\nGe 8.212258 1.799105 1.963534\\nGe 8.212258 1.799105 10.324964\\nGe 8.212258 1.799105 18.686394\\nGe 8.212258 8.995525 1.963534\\nGe 8.212258 8.995525 10.324964\\nGe 8.212258 8.995525 18.686394\\nGe 8.212258 16.191945 1.963534\\nGe 8.212258 16.191945 10.324964\\nGe 8.212258 16.191945 18.686394\\nGe 13.849993 1.799105 0.175878\\nGe 13.849993 1.799105 8.537308\\nGe 13.849993 1.799105 16.898738\\nGe 13.849993 8.995525 0.175878\\nGe 13.849993 8.995525 8.537308\\nGe 13.849993 8.995525 16.898738\\nGe 13.849993 16.191945 0.175878\\nGe 13.849993 16.191945 8.537308\\nGe 13.849993 16.191945 16.898738\\nCl 1.114563 5.397315 6.256564\\nCl 1.114563 5.397315 14.617994\\nCl 1.114563 5.397315 22.979424\\nCl 1.114563 12.593735 6.256564\\nCl 1.114563 12.593735 14.617994\\nCl 1.114563 12.593735 22.979424\\nCl 1.114563 19.790155 6.256564\\nCl 1.114563 19.790155 14.617994\\nCl 1.114563 19.790155 22.979424\\nCl 6.752298 5.397315 4.468907\\nCl 6.752298 5.397315 12.830337\\nCl 6.752298 5.397315 21.191767\\nCl 6.752298 12.593735 4.468907\\nCl 6.752298 12.593735 12.830337\\nCl 6.752298 12.593735 21.191767\\nCl 6.752298 19.790155 4.468907\\nCl 6.752298 19.790155 12.830337\\nCl 6.752298 19.790155 21.191767\\nCl 12.390034 5.397315 2.681251\\nCl 12.390034 5.397315 11.042681\\nCl 12.390034 5.397315 19.404111\\nCl 12.390034 12.593735 2.681251\\nCl 12.390034 12.593735 11.042681\\nCl 12.390034 12.593735 19.404111\\nCl 12.390034 19.790155 2.681251\\nCl 12.390034 19.790155 11.042681\\nCl 12.390034 19.790155 19.404111\\nCl 4.842606 1.799105 3.111150\\nCl 4.842606 1.799105 11.472580\\nCl 4.842606 1.799105 19.834010\\nCl 4.842606 8.995525 3.111150\\nCl 4.842606 8.995525 11.472580\\nCl 4.842606 8.995525 19.834010\\nCl 4.842606 16.191945 3.111150\\nCl 4.842606 16.191945 11.472580\\nCl 4.842606 16.191945 19.834010\\nCl 10.480341 1.799105 1.323494\\nCl 10.480341 1.799105 9.684924\\nCl 10.480341 1.799105 18.046354\\nCl 10.480341 8.995525 1.323494\\nCl 10.480341 8.995525 9.684924\\nCl 10.480341 8.995525 18.046354\\nCl 10.480341 16.191945 1.323494\\nCl 10.480341 16.191945 9.684924\\nCl 10.480341 16.191945 18.046354\\nCl 16.118076 1.799105 -0.464163\\nCl 16.118076 1.799105 7.897267\\nCl 16.118076 1.799105 16.258697\\nCl 16.118076 8.995525 -0.464163\\nCl 16.118076 8.995525 7.897267\\nCl 16.118076 8.995525 16.258697\\nCl 16.118076 16.191945 -0.464163\\nCl 16.118076 16.191945 7.897267\\nCl 16.118076 16.191945 16.258697\\nCl 1.945983 0.054146 2.306385\\nCl 1.945983 0.054146 10.667815\\nCl 1.945983 0.054146 19.029245\\nCl 1.945983 7.250566 2.306385\\nCl 1.945983 7.250566 10.667815\\nCl 1.945983 7.250566 19.029245\\nCl 1.945983 14.446986 2.306385\\nCl 1.945983 14.446986 10.667815\\nCl 1.945983 14.446986 19.029245\\nCl 7.583718 0.054146 0.518728\\nCl 7.583718 0.054146 8.880158\\nCl 7.583718 0.054146 17.241588\\nCl 7.583718 7.250566 0.518728\\nCl 7.583718 7.250566 8.880158\\nCl 7.583718 7.250566 17.241588\\nCl 7.583718 14.446986 0.518728\\nCl 7.583718 14.446986 8.880158\\nCl 7.583718 14.446986 17.241588\\nCl 13.221453 0.054146 -1.268928\\nCl 13.221453 0.054146 7.092502\\nCl 13.221453 0.054146 15.453932\\nCl 13.221453 7.250566 -1.268928\\nCl 13.221453 7.250566 7.092502\\nCl 13.221453 7.250566 15.453932\\nCl 13.221453 14.446986 -1.268928\\nCl 13.221453 14.446986 7.092502\\nCl 13.221453 14.446986 15.453932\\nCl 4.011187 3.652356 7.061329\\nCl 4.011187 3.652356 15.422759\\nCl 4.011187 3.652356 23.784189\\nCl 4.011187 10.848776 7.061329\\nCl 4.011187 10.848776 15.422759\\nCl 4.011187 10.848776 23.784189\\nCl 4.011187 18.045196 7.061329\\nCl 4.011187 18.045196 15.422759\\nCl 4.011187 18.045196 23.784189\\nCl 9.648922 3.652356 5.273673\\nCl 9.648922 3.652356 13.635103\\nCl 9.648922 3.652356 21.996533\\nCl 9.648922 10.848776 5.273673\\nCl 9.648922 10.848776 13.635103\\nCl 9.648922 10.848776 21.996533\\nCl 9.648922 18.045196 5.273673\\nCl 9.648922 18.045196 13.635103\\nCl 9.648922 18.045196 21.996533\\nCl 15.286657 3.652356 3.486016\\nCl 15.286657 3.652356 11.847446\\nCl 15.286657 3.652356 20.208876\\nCl 15.286657 10.848776 3.486016\\nCl 15.286657 10.848776 11.847446\\nCl 15.286657 10.848776 20.208876\\nCl 15.286657 18.045196 3.486016\\nCl 15.286657 18.045196 11.847446\\nCl 15.286657 18.045196 20.208876\\nCl 1.945983 3.544064 2.306385\\nCl 1.945983 3.544064 10.667815\\nCl 1.945983 3.544064 19.029245\\nCl 1.945983 10.740484 2.306385\\nCl 1.945983 10.740484 10.667815\\nCl 1.945983 10.740484 19.029245\\nCl 1.945983 17.936904 2.306385\\nCl 1.945983 17.936904 10.667815\\nCl 1.945983 17.936904 19.029245\\nCl 7.583718 3.544064 0.518728\\nCl 7.583718 3.544064 8.880158\\nCl 7.583718 3.544064 17.241588\\nCl 7.583718 10.740484 0.518728\\nCl 7.583718 10.740484 8.880158\\nCl 7.583718 10.740484 17.241588\\nCl 7.583718 17.936904 0.518728\\nCl 7.583718 17.936904 8.880158\\nCl 7.583718 17.936904 17.241588\\nCl 13.221453 3.544064 -1.268928\\nCl 13.221453 3.544064 7.092502\\nCl 13.221453 3.544064 15.453932\\nCl 13.221453 10.740484 -1.268928\\nCl 13.221453 10.740484 7.092502\\nCl 13.221453 10.740484 15.453932\\nCl 13.221453 17.936904 -1.268928\\nCl 13.221453 17.936904 7.092502\\nCl 13.221453 17.936904 15.453932\\nCl 4.011187 7.142274 7.061329\\nCl 4.011187 7.142274 15.422759\\nCl 4.011187 7.142274 23.784189\\nCl 4.011187 14.338694 7.061329\\nCl 4.011187 14.338694 15.422759\\nCl 4.011187 14.338694 23.784189\\nCl 4.011187 21.535114 7.061329\\nCl 4.011187 21.535114 15.422759\\nCl 4.011187 21.535114 23.784189\\nCl 9.648922 7.142274 5.273673\\nCl 9.648922 7.142274 13.635103\\nCl 9.648922 7.142274 21.996533\\nCl 9.648922 14.338694 5.273673\\nCl 9.648922 14.338694 13.635103\\nCl 9.648922 14.338694 21.996533\\nCl 9.648922 21.535114 5.273673\\nCl 9.648922 21.535114 13.635103\\nCl 9.648922 21.535114 21.996533\\nCl 15.286657 7.142274 3.486016\\nCl 15.286657 7.142274 11.847446\\nCl 15.286657 7.142274 20.208876\\nCl 15.286657 14.338694 3.486016\\nCl 15.286657 14.338694 11.847446\\nCl 15.286657 14.338694 20.208876\\nCl 15.286657 21.535114 3.486016\\nCl 15.286657 21.535114 11.847446\\nCl 15.286657 21.535114 20.208876'"
      ]
     },
     "execution_count": 306,
     "metadata": {},
     "output_type": "execute_result"
    }
   ],
   "source": [
    "structure = p.Structure.from_file(\"structures/final_dipoles.cif\")\n",
    "structure.make_supercell(np.eye(3)*3)\n",
    "mol=p.core.Molecule.from_sites(structure.sites)\n",
    "mol.to(\"xyz\",\"structures/rotated_dipoles.xyz\")\n"
   ]
  },
  {
   "cell_type": "code",
   "execution_count": 4,
   "metadata": {},
   "outputs": [],
   "source": [
    "cssii2=p.Structure.from_file(\"structures/usethisFM.cif\")\n",
    "struc1=cssii2.copy()\n",
    "n=1\n",
    "struc1.make_supercell([[n,0,0],[0,n,0],[0,0,n]])\n"
   ]
  },
  {
   "cell_type": "code",
   "execution_count": 5,
   "metadata": {},
   "outputs": [
    {
     "data": {
      "text/plain": [
       "(array([0, 0, 0, 0], dtype=int64),\n",
       " array([4, 6, 3, 1], dtype=int64),\n",
       " array([[0., 0., 0.],\n",
       "        [0., 0., 0.],\n",
       "        [0., 0., 0.],\n",
       "        [0., 0., 0.]]),\n",
       " array([2.43203754e+00, 2.43203754e+00, 2.38069051e+00, 4.44089210e-16]))"
      ]
     },
     "execution_count": 5,
     "metadata": {},
     "output_type": "execute_result"
    }
   ],
   "source": [
    "struc1.get_neighbor_list(2.5,[struc1[1]])"
   ]
  },
  {
   "cell_type": "code",
   "execution_count": 13,
   "metadata": {},
   "outputs": [],
   "source": [
    "pos1=[]\n",
    "x=struc1[0]\n",
    "pos1.append(x.frac_coords)\n",
    "for i in struc1.get_neighbors(x,2.5):\n",
    "    pos1.append(i.frac_coords)\n",
    "pos1=np.array(pos1).T"
   ]
  },
  {
   "cell_type": "code",
   "execution_count": 14,
   "metadata": {},
   "outputs": [],
   "source": [
    "pos2=[]\n",
    "x=struc1[1]\n",
    "pos2.append(x.frac_coords)\n",
    "for i in struc1.get_neighbors(x,2.5):\n",
    "    pos2.append(i.frac_coords)\n",
    "pos2=np.array(pos2).T"
   ]
  },
  {
   "cell_type": "code",
   "execution_count": 43,
   "metadata": {},
   "outputs": [
    {
     "data": {
      "image/png": "[encoded data removed]",
      "text/plain": [
       "<Figure size 432x288 with 1 Axes>"
      ]
     },
     "metadata": {
      "needs_background": "light"
     },
     "output_type": "display_data"
    }
   ],
   "source": [
    "%matplotlib inline\n",
    "from mpl_toolkits.mplot3d import Axes3D\n",
    "fig = plt.figure()\n",
    "ax = fig.add_subplot(111, projection='3d')\n",
    "ax.scatter(pos1[0][1:],pos1[1][1:],pos1[2][1:],color=\"blue\")\n",
    "ax.scatter(pos1[0][0],pos1[1][0],pos1[2][0],color=\"red\")\n",
    "\n",
    "\n",
    "for i in range(1,4):\n",
    "    ax.plot3D([pos1[0][0],pos1[0][i]],[pos1[1][0],pos1[1][i]],[pos1[2][0],pos1[2][i]],c=\"k\",ls=\"--\")\n",
    "ax.plot3D([pos[0][i] for i in [1,2,3,1]],[pos[1][i] for i in [1,2,3,1]],[pos[2][i] for i in [1,2,3,1]],c=\"k\")\n",
    "\n",
    "# ax.scatter(pos2[0][1:],pos2[1][1:],pos2[2][1:],color=\"blue\")\n",
    "# ax.scatter(pos2[0][0],pos2[1][0],pos2[2][0],color=\"red\")\n",
    "ax.set_ylim(0,1)\n",
    "ax.set_xlim(0,1)\n",
    "ax.set_zlim(0,1)\n",
    "ax.view_init(elev=90, azim=-30)\n",
    "plt.show()"
   ]
  },
  {
   "cell_type": "code",
   "execution_count": 47,
   "metadata": {},
   "outputs": [
    {
     "data": {
      "text/plain": [
       "array([[0.456659, 0.25    , 0.386263],\n",
       "       [0.345171, 0.007524, 0.199633],\n",
       "       [0.345171, 0.492476, 0.199633],\n",
       "       [0.858963, 0.25    , 0.395728]])"
      ]
     },
     "execution_count": 47,
     "metadata": {},
     "output_type": "execute_result"
    }
   ],
   "source": [
    "pos2.T"
   ]
  },
  {
   "cell_type": "code",
   "execution_count": 48,
   "metadata": {},
   "outputs": [
    {
     "data": {
      "text/plain": [
       "(5.91437, 7.19642, 8.36143)"
      ]
     },
     "execution_count": 48,
     "metadata": {},
     "output_type": "execute_result"
    }
   ],
   "source": [
    "struc1.lattice.abc"
   ]
  },
  {
   "cell_type": "code",
   "execution_count": null,
   "metadata": {},
   "outputs": [],
   "source": []
  }
 ],
 "metadata": {
  "kernelspec": {
   "display_name": "Python 3",
   "language": "python",
   "name": "python3"
  },
  "language_info": {
   "codemirror_mode": {
    "name": "ipython",
    "version": 3
   },
   "file_extension": ".py",
   "mimetype": "text/x-python",
   "name": "python",
   "nbconvert_exporter": "python",
   "pygments_lexer": "ipython3",
   "version": "3.7.7"
  }
 },
 "nbformat": 4,
 "nbformat_minor": 4
}
