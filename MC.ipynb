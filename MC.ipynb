{
 "cells": [
  {
   "cell_type": "code",
   "execution_count": 12,
   "metadata": {},
   "outputs": [],
   "source": [
    "include(\"./perov_functions.jl\")\n",
    "using Plots\n",
    "using BenchmarkTools\n",
    "using Distributions\n",
    "using LaTeXStrings\n",
    "using Measures"
   ]
  },
  {
   "cell_type": "code",
   "execution_count": 13,
   "metadata": {},
   "outputs": [],
   "source": [
    "n=2;nk=100;\n",
    "system_original=make_symstem(n);\n",
    "system=copy(system_original);"
   ]
  },
  {
   "cell_type": "code",
   "execution_count": null,
   "metadata": {},
   "outputs": [],
   "source": [
    "function e1(system)\n",
    "    axis=rand(Uniform(-1.,1.),3)\n",
    "    theta=rand(Uniform(0,2π))\n",
    "    pos=rand(1:size(system)[1],3)\n",
    "    s,s1=get_rotation_energy_1(system,1,1/250,pos,axis,theta);\n",
    "    if s<0\n",
    "        system=s1\n",
    "        end;\n",
    "    e=get_total_energy_mag(system,1,1/150)\n",
    "    return e\n",
    "    end;"
   ]
  },
  {
   "cell_type": "code",
   "execution_count": 14,
   "metadata": {},
   "outputs": [],
   "source": [
    "function run_sum(n,system,g1,g2)\n",
    "    e=[]\n",
    "    a1=[]\n",
    "    a2=[]\n",
    "    a3=[]\n",
    "    mag_val=[]\n",
    "    for i in 1:n\n",
    "        axis=rand(Uniform(-1.,1.),3)\n",
    "        theta=rand(Uniform(0,2π))\n",
    "        pos=rand(1:size(system)[1],3)\n",
    "        s,s1=get_rotation_energy_1(system,g1,g2,pos,axis,theta);\n",
    "        if s<0\n",
    "            system=s1\n",
    "            end;\n",
    "        if i%100==0\n",
    "            vals=get_total_energy_mag(system,g1,g2)\n",
    "            energy=vals[1]\n",
    "            angles=vals[2].^2\n",
    "            push!(e,energy)\n",
    "            push!(a1,angles[1])\n",
    "            push!(a2,angles[2])\n",
    "            push!(a3,angles[3])\n",
    "            push!(mag_val,norm(vals[2]))\n",
    "            end;\n",
    "        end;\n",
    "    return e,a1,a2,a3,mag_val,system\n",
    "    end;"
   ]
  },
  {
   "cell_type": "code",
   "execution_count": 45,
   "metadata": {},
   "outputs": [
    {
     "name": "stdout",
     "output_type": "stream",
     "text": [
      " 29.081049 seconds (309.01 M allocations: 34.007 GiB, 25.15% gc time)\n"
     ]
    }
   ],
   "source": [
    "system=copy(system_original);\n",
    "@time e,a1,a2,a3,mag_val,system=run_sum(60000,system,1,1/950);"
   ]
  },
  {
   "cell_type": "code",
   "execution_count": 48,
   "metadata": {},
   "outputs": [],
   "source": [
    "function animplots(i)\n",
    "gr()\n",
    "pl1=plot((1:i)*100,e[1:i],ylabel=\"energy\",xlabel=\"iterations\",color=RGB(226/255, 194/255, 144/255),label=\"\",linewidth=2)\n",
    "pl2=plot((1:i)*100,a1[1:i],label=L\"$s_x$\",xlabel=\"iterations\",ylabel=\"component\",ylim=(-0.01,1.1),linewidth=1.5)\n",
    "plot!(pl2,(1:i)*100,a2[1:i],label=L\"$s_y$\",linewidth=1.5)\n",
    "plot!(pl2,(1:i)*100,a3[1:i],label=L\"$s_z$\",linewidth=1.5)\n",
    "pl3=plot((1:i)*100,mag_val[1:i],ylabel=L\"$M$\",xlabel=\"iterations\",color=RGB(202/255, 255/255, 191/255),linewidth=2,label=\"\",ylim=(-0.01,1.1))\n",
    "hline!(pl3,[1],linestyle=:dash,color=\"grey\",label=\"\")\n",
    "hline!(pl2,[1/3],linestyle=:dash,color=\"grey\",label=\"\")\n",
    "plot(pl1,pl3,pl2,size=(1200,400),dpi=100,bottom_margin=5mm,layout=@layout [a b c])\n",
    "end;"
   ]
  },
  {
   "cell_type": "code",
   "execution_count": null,
   "metadata": {},
   "outputs": [],
   "source": [
    "anim = @animate for i ∈ 1:length(e)\n",
    "    animplots(i)\n",
    "end\n",
    "gif(anim, \"animations/MC_3.gif\", fps = 17)"
   ]
  },
  {
   "cell_type": "code",
   "execution_count": null,
   "metadata": {},
   "outputs": [],
   "source": []
  }
 ],
 "metadata": {
  "kernelspec": {
   "display_name": "Julia 1.4.1",
   "language": "julia",
   "name": "julia-1.4"
  },
  "language_info": {
   "file_extension": ".jl",
   "mimetype": "application/julia",
   "name": "julia",
   "version": "1.4.1"
  }
 },
 "nbformat": 4,
 "nbformat_minor": 4
}
